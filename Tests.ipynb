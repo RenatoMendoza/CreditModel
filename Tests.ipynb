{
 "cells": [
  {
   "cell_type": "markdown",
   "metadata": {},
   "source": [
    "# Traditional Credit Model\n"
   ]
  },
  {
   "cell_type": "code",
   "execution_count": 1,
   "metadata": {},
   "outputs": [],
   "source": [
    "import pandas as pd\n",
    "import numpy as np\n",
    "import matplotlib.pyplot as plt\n",
    "import seaborn as sns\n",
    "import os\n",
    "from traditional_borrador import FICOScoreModel"
   ]
  },
  {
   "cell_type": "code",
   "execution_count": 2,
   "metadata": {},
   "outputs": [
    {
     "data": {
      "text/html": [
       "<div>\n",
       "<style scoped>\n",
       "    .dataframe tbody tr th:only-of-type {\n",
       "        vertical-align: middle;\n",
       "    }\n",
       "\n",
       "    .dataframe tbody tr th {\n",
       "        vertical-align: top;\n",
       "    }\n",
       "\n",
       "    .dataframe thead th {\n",
       "        text-align: right;\n",
       "    }\n",
       "</style>\n",
       "<table border=\"1\" class=\"dataframe\">\n",
       "  <thead>\n",
       "    <tr style=\"text-align: right;\">\n",
       "      <th></th>\n",
       "      <th>id</th>\n",
       "      <th>customer_id</th>\n",
       "      <th>month</th>\n",
       "      <th>name</th>\n",
       "      <th>age</th>\n",
       "      <th>ssn</th>\n",
       "      <th>occupation</th>\n",
       "      <th>annual_income</th>\n",
       "      <th>monthly_inhand_salary</th>\n",
       "      <th>credit_history_age</th>\n",
       "      <th>...</th>\n",
       "      <th>changed_credit_limit</th>\n",
       "      <th>num_credit_inquiries</th>\n",
       "      <th>credit_mix</th>\n",
       "      <th>outstanding_debt</th>\n",
       "      <th>credit_utilization_ratio</th>\n",
       "      <th>payment_of_min_amount</th>\n",
       "      <th>amount_invested_monthly</th>\n",
       "      <th>payment_behaviour</th>\n",
       "      <th>monthly_balance</th>\n",
       "      <th>credit_score</th>\n",
       "    </tr>\n",
       "  </thead>\n",
       "  <tbody>\n",
       "    <tr>\n",
       "      <th>0</th>\n",
       "      <td>0x1602</td>\n",
       "      <td>CUS_0xd40</td>\n",
       "      <td>January</td>\n",
       "      <td>Aaron Maashoh</td>\n",
       "      <td>23</td>\n",
       "      <td>821-00-0265</td>\n",
       "      <td>Scientist</td>\n",
       "      <td>19114.12</td>\n",
       "      <td>1824.8434</td>\n",
       "      <td>89</td>\n",
       "      <td>...</td>\n",
       "      <td>11.27</td>\n",
       "      <td>4</td>\n",
       "      <td>Good</td>\n",
       "      <td>809.98</td>\n",
       "      <td>26.822620</td>\n",
       "      <td>No</td>\n",
       "      <td>80.415300</td>\n",
       "      <td>High_spent_Small_value_payments</td>\n",
       "      <td>312.49408</td>\n",
       "      <td>2</td>\n",
       "    </tr>\n",
       "    <tr>\n",
       "      <th>1</th>\n",
       "      <td>0x1603</td>\n",
       "      <td>CUS_0xd40</td>\n",
       "      <td>February</td>\n",
       "      <td>Aaron Maashoh</td>\n",
       "      <td>23</td>\n",
       "      <td>821-00-0265</td>\n",
       "      <td>Scientist</td>\n",
       "      <td>19114.12</td>\n",
       "      <td>1824.8434</td>\n",
       "      <td>93</td>\n",
       "      <td>...</td>\n",
       "      <td>11.27</td>\n",
       "      <td>4</td>\n",
       "      <td>Good</td>\n",
       "      <td>809.98</td>\n",
       "      <td>31.944960</td>\n",
       "      <td>No</td>\n",
       "      <td>118.280220</td>\n",
       "      <td>Low_spent_Large_value_payments</td>\n",
       "      <td>284.62915</td>\n",
       "      <td>2</td>\n",
       "    </tr>\n",
       "    <tr>\n",
       "      <th>2</th>\n",
       "      <td>0x1604</td>\n",
       "      <td>CUS_0xd40</td>\n",
       "      <td>March</td>\n",
       "      <td>Aaron Maashoh</td>\n",
       "      <td>23</td>\n",
       "      <td>821-00-0265</td>\n",
       "      <td>Scientist</td>\n",
       "      <td>19114.12</td>\n",
       "      <td>1824.8434</td>\n",
       "      <td>91</td>\n",
       "      <td>...</td>\n",
       "      <td>11.27</td>\n",
       "      <td>4</td>\n",
       "      <td>Good</td>\n",
       "      <td>809.98</td>\n",
       "      <td>28.609352</td>\n",
       "      <td>No</td>\n",
       "      <td>81.699524</td>\n",
       "      <td>Low_spent_Medium_value_payments</td>\n",
       "      <td>331.20987</td>\n",
       "      <td>2</td>\n",
       "    </tr>\n",
       "    <tr>\n",
       "      <th>3</th>\n",
       "      <td>0x1605</td>\n",
       "      <td>CUS_0xd40</td>\n",
       "      <td>April</td>\n",
       "      <td>Aaron Maashoh</td>\n",
       "      <td>23</td>\n",
       "      <td>821-00-0265</td>\n",
       "      <td>Scientist</td>\n",
       "      <td>19114.12</td>\n",
       "      <td>1824.8434</td>\n",
       "      <td>92</td>\n",
       "      <td>...</td>\n",
       "      <td>6.27</td>\n",
       "      <td>4</td>\n",
       "      <td>Good</td>\n",
       "      <td>809.98</td>\n",
       "      <td>31.377861</td>\n",
       "      <td>No</td>\n",
       "      <td>199.458070</td>\n",
       "      <td>Low_spent_Small_value_payments</td>\n",
       "      <td>223.45131</td>\n",
       "      <td>2</td>\n",
       "    </tr>\n",
       "    <tr>\n",
       "      <th>4</th>\n",
       "      <td>0x1606</td>\n",
       "      <td>CUS_0xd40</td>\n",
       "      <td>May</td>\n",
       "      <td>Aaron Maashoh</td>\n",
       "      <td>23</td>\n",
       "      <td>821-00-0265</td>\n",
       "      <td>Scientist</td>\n",
       "      <td>19114.12</td>\n",
       "      <td>1824.8434</td>\n",
       "      <td>93</td>\n",
       "      <td>...</td>\n",
       "      <td>11.27</td>\n",
       "      <td>4</td>\n",
       "      <td>Good</td>\n",
       "      <td>809.98</td>\n",
       "      <td>24.797346</td>\n",
       "      <td>No</td>\n",
       "      <td>41.420155</td>\n",
       "      <td>High_spent_Medium_value_payments</td>\n",
       "      <td>341.48923</td>\n",
       "      <td>2</td>\n",
       "    </tr>\n",
       "  </tbody>\n",
       "</table>\n",
       "<p>5 rows × 28 columns</p>\n",
       "</div>"
      ],
      "text/plain": [
       "       id customer_id     month           name  age          ssn occupation  \\\n",
       "0  0x1602   CUS_0xd40   January  Aaron Maashoh   23  821-00-0265  Scientist   \n",
       "1  0x1603   CUS_0xd40  February  Aaron Maashoh   23  821-00-0265  Scientist   \n",
       "2  0x1604   CUS_0xd40     March  Aaron Maashoh   23  821-00-0265  Scientist   \n",
       "3  0x1605   CUS_0xd40     April  Aaron Maashoh   23  821-00-0265  Scientist   \n",
       "4  0x1606   CUS_0xd40       May  Aaron Maashoh   23  821-00-0265  Scientist   \n",
       "\n",
       "   annual_income  monthly_inhand_salary  credit_history_age  ...  \\\n",
       "0       19114.12              1824.8434                  89  ...   \n",
       "1       19114.12              1824.8434                  93  ...   \n",
       "2       19114.12              1824.8434                  91  ...   \n",
       "3       19114.12              1824.8434                  92  ...   \n",
       "4       19114.12              1824.8434                  93  ...   \n",
       "\n",
       "   changed_credit_limit  num_credit_inquiries  credit_mix  outstanding_debt  \\\n",
       "0                 11.27                     4        Good            809.98   \n",
       "1                 11.27                     4        Good            809.98   \n",
       "2                 11.27                     4        Good            809.98   \n",
       "3                  6.27                     4        Good            809.98   \n",
       "4                 11.27                     4        Good            809.98   \n",
       "\n",
       "   credit_utilization_ratio payment_of_min_amount  amount_invested_monthly  \\\n",
       "0                 26.822620                    No                80.415300   \n",
       "1                 31.944960                    No               118.280220   \n",
       "2                 28.609352                    No                81.699524   \n",
       "3                 31.377861                    No               199.458070   \n",
       "4                 24.797346                    No                41.420155   \n",
       "\n",
       "                  payment_behaviour  monthly_balance  credit_score  \n",
       "0   High_spent_Small_value_payments        312.49408             2  \n",
       "1    Low_spent_Large_value_payments        284.62915             2  \n",
       "2   Low_spent_Medium_value_payments        331.20987             2  \n",
       "3    Low_spent_Small_value_payments        223.45131             2  \n",
       "4  High_spent_Medium_value_payments        341.48923             2  \n",
       "\n",
       "[5 rows x 28 columns]"
      ]
     },
     "execution_count": 2,
     "metadata": {},
     "output_type": "execute_result"
    }
   ],
   "source": [
    "data = pd.read_csv('credit_score.csv')\n",
    "data.head()"
   ]
  },
  {
   "cell_type": "code",
   "execution_count": 3,
   "metadata": {},
   "outputs": [
    {
     "data": {
      "text/plain": [
       "Index(['id', 'customer_id', 'month', 'name', 'age', 'ssn', 'occupation',\n",
       "       'annual_income', 'monthly_inhand_salary', 'credit_history_age',\n",
       "       'total_emi_per_month', 'num_bank_accounts', 'num_credit_card',\n",
       "       'interest_rate', 'num_of_loan', 'type_of_loan', 'delay_from_due_date',\n",
       "       'num_of_delayed_payment', 'changed_credit_limit',\n",
       "       'num_credit_inquiries', 'credit_mix', 'outstanding_debt',\n",
       "       'credit_utilization_ratio', 'payment_of_min_amount',\n",
       "       'amount_invested_monthly', 'payment_behaviour', 'monthly_balance',\n",
       "       'credit_score'],\n",
       "      dtype='object')"
      ]
     },
     "execution_count": 3,
     "metadata": {},
     "output_type": "execute_result"
    }
   ],
   "source": [
    "data.columns"
   ]
  },
  {
   "cell_type": "code",
   "execution_count": 4,
   "metadata": {},
   "outputs": [
    {
     "data": {
      "text/plain": [
       "dict_keys(['__module__', 'calculate_payment_history_score', 'calculate_credit_utilization_score', 'calculate_length_of_history_score', 'calculate_credit_mix_score', 'calculate_new_credit_score', 'calculate_fico_score', '__dict__', '__weakref__', '__doc__'])"
      ]
     },
     "execution_count": 4,
     "metadata": {},
     "output_type": "execute_result"
    }
   ],
   "source": [
    "FICOScoreModel.__dict__.keys()"
   ]
  },
  {
   "cell_type": "code",
   "execution_count": 6,
   "metadata": {},
   "outputs": [
    {
     "ename": "TypeError",
     "evalue": "FICOScoreModel.calculate_fico_score() missing 2 required positional arguments: 'self' and 'credit_profile'",
     "output_type": "error",
     "traceback": [
      "\u001b[31m---------------------------------------------------------------------------\u001b[39m",
      "\u001b[31mTypeError\u001b[39m                                 Traceback (most recent call last)",
      "\u001b[36mCell\u001b[39m\u001b[36m \u001b[39m\u001b[32mIn[6]\u001b[39m\u001b[32m, line 1\u001b[39m\n\u001b[32m----> \u001b[39m\u001b[32m1\u001b[39m \u001b[43mFICOScoreModel\u001b[49m\u001b[43m.\u001b[49m\u001b[43mcalculate_fico_score\u001b[49m\u001b[43m(\u001b[49m\u001b[43m)\u001b[49m\n",
      "\u001b[31mTypeError\u001b[39m: FICOScoreModel.calculate_fico_score() missing 2 required positional arguments: 'self' and 'credit_profile'"
     ]
    }
   ],
   "source": [
    "FICOScoreModel.calculate_fico_score()"
   ]
  },
  {
   "cell_type": "code",
   "execution_count": null,
   "metadata": {},
   "outputs": [],
   "source": []
  }
 ],
 "metadata": {
  "kernelspec": {
   "display_name": "Python 3",
   "language": "python",
   "name": "python3"
  },
  "language_info": {
   "codemirror_mode": {
    "name": "ipython",
    "version": 3
   },
   "file_extension": ".py",
   "mimetype": "text/x-python",
   "name": "python",
   "nbconvert_exporter": "python",
   "pygments_lexer": "ipython3",
   "version": "3.12.9"
  }
 },
 "nbformat": 4,
 "nbformat_minor": 2
}
